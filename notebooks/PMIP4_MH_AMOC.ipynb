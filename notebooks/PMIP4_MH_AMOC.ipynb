{
 "cells": [
  {
   "cell_type": "code",
   "execution_count": null,
   "metadata": {},
   "outputs": [],
   "source": [
    "#No change needs here\n",
    "\n",
    "'''Define CMIP list'''\n",
    "# This cell lists CMIP/PMIP model groups\n",
    "\n",
    "pmip4=['IPSL-CM6A-LR',\n",
    "       'HadGEM3-GC31',\n",
    "       'AWI-ESM']\n",
    "\n",
    "pmip3=['GISS-E2-1-G',\n",
    "     'COSMOS-ASO',\n",
    "     'MRI-CGCM3',\n",
    "     'CNRM-CM5',\n",
    "     'FGOALS-g2',\n",
    "     'GISS-E2-R',\n",
    "     'EC-EARTH-2-2',\n",
    "     'IPSL-CM5A-LR',\n",
    "     'bcc-csm1-1',\n",
    "     'HadGEM2-CC',\n",
    "     'HadCM3',\n",
    "     'MPI-ESM-P',\n",
    "     'CCSM4',\n",
    "     'CSIRO-Mk3L-1-2',\n",
    "     'CSIRO-Mk3-6-0',\n",
    "     'FGOALS-s2',\n",
    "     'MIROC-ESM']\n",
    "pmip_all=['GISS-E2-1-G',\n",
    " 'COSMOS-ASO',\n",
    " 'AWI-ESM',\n",
    " 'MRI-CGCM3',\n",
    " 'CNRM-CM5',\n",
    " 'FGOALS-g2',\n",
    " 'GISS-E2-R',\n",
    " 'EC-EARTH-2-2',\n",
    " 'IPSL-CM5A-LR',\n",
    " 'IPSL-CM6A-LR',\n",
    " 'bcc-csm1-1',\n",
    " 'HadGEM3-GC31',\n",
    " 'HadGEM2-CC',\n",
    " 'HadCM3',\n",
    " 'MPI-ESM-P',\n",
    " 'CCSM4',\n",
    " 'CSIRO-Mk3L-1-2',\n",
    " 'CSIRO-Mk3-6-0',\n",
    " 'FGOALS-s2',\n",
    " 'MIROC-ESM']\n",
    "\n",
    "pmip={}\n",
    "pmip['PMIP3']=pmip3\n",
    "pmip['PMIP4']=pmip4\n",
    "pmip['PMIP']=pmip_all\n",
    "\n",
    "pmip_v3='PMIP3'\n",
    "pmip_v4='PMIP4'"
   ]
  },
  {
   "cell_type": "code",
   "execution_count": 1,
   "metadata": {},
   "outputs": [],
   "source": [
    "\n",
    "import xarray as xr\n",
    "import matplotlib.pyplot as plt\n",
    "import numpy as np\n",
    "import pandas as pd\n",
    "import xesmf as xe\n",
    "%matplotlib inline\n",
    "import cartopy\n",
    "import cartopy.crs as ccrs\n",
    "import matplotlib\n",
    "from netCDF4 import Dataset\n",
    "from mpl_toolkits.axes_grid1 import make_axes_locatable\n",
    "import numpy.ma as ma\n",
    "import math\n",
    "import xlrd\n",
    "import os\n",
    "import matplotlib.colors as colors\n",
    "import seaborn as sns\n",
    "import scipy"
   ]
  },
  {
   "cell_type": "code",
   "execution_count": 2,
   "metadata": {},
   "outputs": [],
   "source": [
    "AMOC={}\n",
    "AMOC['model']=['CCSM4','FGOALS-G2','MPI-ESM-P','MRI-CGCM3']\n",
    "AMOC['mh-30']=[20.5,23.3,20.0,15.5]\n",
    "AMOC['mh-50']=[15.8,18.0,16.8,14.6]\n",
    "AMOC['pi-30']=[20.7,23.6,19.4,16.5]\n",
    "AMOC['pi-50']=[16.3,18.3,16.5,13.8]"
   ]
  },
  {
   "cell_type": "code",
   "execution_count": 29,
   "metadata": {},
   "outputs": [
    {
     "data": {
      "text/plain": [
       "Text(0, 0.5, 'MH AMOC (Sv)')"
      ]
     },
     "execution_count": 29,
     "metadata": {},
     "output_type": "execute_result"
    },
    {
     "data": {
      "image/png": "[encoded data removed]",
      "text/plain": [
       "<Figure size 720x504 with 1 Axes>"
      ]
     },
     "metadata": {
      "needs_background": "light"
     },
     "output_type": "display_data"
    }
   ],
   "source": [
    "plt.figure(figsize=(10,7))\n",
    "plt.xlim(10,24)\n",
    "plt.ylim(10,24)\n",
    "plt.scatter(AMOC['pi-30'],AMOC['mh-30'],s=80,marker='^',label='30N')\n",
    "plt.scatter(AMOC['pi-50'],AMOC['mh-50'],s=80,marker='o',label='50N')\n",
    "x1=np.arange(10,25)\n",
    "y1=x1\n",
    "plt.plot(x1,y1,\"r--\",label='1:1 line')\n",
    "plt.legend()\n",
    "plt.xlabel('PI AMOC (Sv)')\n",
    "plt.ylabel('MH AMOC (Sv)')"
   ]
  },
  {
   "cell_type": "code",
   "execution_count": 17,
   "metadata": {},
   "outputs": [
    {
     "data": {
      "text/plain": [
       "[20.7, 23.6, 19.4, 16.5, 16.3, 18.3, 16.5, 13.8]"
      ]
     },
     "execution_count": 17,
     "metadata": {},
     "output_type": "execute_result"
    }
   ],
   "source": [
    "x2=AMOC['pi-30']+AMOC['pi-50']\n",
    "y2=AMOC['mh-30']+AMOC['mh-50']"
   ]
  },
  {
   "cell_type": "code",
   "execution_count": 31,
   "metadata": {},
   "outputs": [
    {
     "data": {
      "text/plain": [
       "LinregressResult(slope=1.0833999999999997, intercept=7.105427357601002e-15, rvalue=0.9999999999999996, pvalue=1.1075720816877522e-91, stderr=9.320695424676546e-09)"
      ]
     },
     "execution_count": 31,
     "metadata": {},
     "output_type": "execute_result"
    }
   ],
   "source": [
    "import scipy\n",
    "lin=scipy.stats.linregress(x2, y2)\n",
    "lin"
   ]
  },
  {
   "cell_type": "code",
   "execution_count": null,
   "metadata": {},
   "outputs": [],
   "source": []
  }
 ],
 "metadata": {
  "kernelspec": {
   "display_name": "Python 3",
   "language": "python",
   "name": "python3"
  },
  "language_info": {
   "codemirror_mode": {
    "name": "ipython",
    "version": 3
   },
   "file_extension": ".py",
   "mimetype": "text/x-python",
   "name": "python",
   "nbconvert_exporter": "python",
   "pygments_lexer": "ipython3",
   "version": "3.7.4"
  }
 },
 "nbformat": 4,
 "nbformat_minor": 2
}
