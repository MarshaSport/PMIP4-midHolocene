{
 "cells": [
  {
   "cell_type": "markdown",
   "metadata": {},
   "source": [
    "## This notebook create the AMOC figure"
   ]
  },
  {
   "cell_type": "code",
   "execution_count": 1,
   "metadata": {},
   "outputs": [],
   "source": [
    "#No change needs here\n",
    "\n",
    "'''Define PMIP model list'''\n",
    "# This cell lists CMIP/PMIP model groups\n",
    "\n",
    "pmip_v4='PMIP4'\n",
    "pmip_v3='PMIP3'\n",
    "pmip={}\n",
    "pmip['PMIP4']=['AWI-CM-1-1-LR',\n",
    "               'CESM2',\n",
    "               'EC-EARTH-3-3',\n",
    "               'FGOALS-f3-L',\n",
    "               'FGOALS-g3',\n",
    "               'GISS-E2-1-G',\n",
    "               'HadGEM3-GC31',\n",
    "               'IPSL-CM6A-LR',\n",
    "               'MIROC-ES2L',\n",
    "               'MPI-ESM1-2-LR',\n",
    "               'MRI-ESM2-0',\n",
    "               'NESM3',\n",
    "               'NorESM1-F',\n",
    "               'NorESM2',\n",
    "               'UofT-CCSM-4']\n",
    "pmip['PMIP3']=['BCC-CSM1-1',\n",
    "               'CCSM4',\n",
    "               'CNRM-CM5',\n",
    "               'CSIRO-Mk3L-1-2',\n",
    "               'CSIRO-Mk3-6-0',\n",
    "               'EC-EARTH-2-2',\n",
    "               'FGOALS-g2',\n",
    "               'FGOALS-s2',\n",
    "               'GISS-E2-R',\n",
    "               'HadGEM2-CC',\n",
    "               'HadGEM2-ES',\n",
    "               'IPSL-CM5A-LR',\n",
    "               'KCM1-2-2',\n",
    "               'MIROC-ESM',\n",
    "               'MPI-ESM-P',\n",
    "               'MRI-CGCM3']\n",
    "               \n",
    "               \n",
    "         "
   ]
  },
  {
   "cell_type": "code",
   "execution_count": 2,
   "metadata": {},
   "outputs": [],
   "source": [
    "#import packages\n",
    "import xarray as xr\n",
    "import matplotlib.pyplot as plt\n",
    "import numpy as np\n",
    "import pandas as pd\n",
    "import xesmf as xe\n",
    "%matplotlib inline\n",
    "import cartopy\n",
    "import cartopy.crs as ccrs\n",
    "import matplotlib\n",
    "from netCDF4 import Dataset\n",
    "from mpl_toolkits.axes_grid1 import make_axes_locatable\n",
    "import numpy.ma as ma\n",
    "import math\n",
    "import xlrd\n",
    "import os\n",
    "import matplotlib.colors as colors\n",
    "import seaborn as sns\n",
    "import scipy\n",
    "from sklearn.metrics import mean_squared_error\n",
    "\n",
    "import matplotlib\n",
    "import matplotlib.collections as collections\n",
    "import regionmask\n",
    "\n"
   ]
  },
  {
   "cell_type": "code",
   "execution_count": 4,
   "metadata": {},
   "outputs": [],
   "source": [
    "#load AMOC data\n",
    "df= pd.read_csv('amoc/amoc.csv',skipinitialspace=True,header=0)  "
   ]
  },
  {
   "cell_type": "code",
   "execution_count": 4,
   "metadata": {},
   "outputs": [
    {
     "data": {
      "text/html": [
       "<div>\n",
       "<style scoped>\n",
       "    .dataframe tbody tr th:only-of-type {\n",
       "        vertical-align: middle;\n",
       "    }\n",
       "\n",
       "    .dataframe tbody tr th {\n",
       "        vertical-align: top;\n",
       "    }\n",
       "\n",
       "    .dataframe thead th {\n",
       "        text-align: right;\n",
       "    }\n",
       "</style>\n",
       "<table border=\"1\" class=\"dataframe\">\n",
       "  <thead>\n",
       "    <tr style=\"text-align: right;\">\n",
       "      <th></th>\n",
       "      <th>Model</th>\n",
       "      <th>MIROC-ES2L</th>\n",
       "      <th>CCSM4</th>\n",
       "      <th>CESM2</th>\n",
       "      <th>FGOALS-g2</th>\n",
       "      <th>GISS-E2-1-G</th>\n",
       "      <th>MPI-ESM-P</th>\n",
       "      <th>MRI-CGCM3</th>\n",
       "    </tr>\n",
       "  </thead>\n",
       "  <tbody>\n",
       "    <tr>\n",
       "      <td>0</td>\n",
       "      <td>piControl_30N</td>\n",
       "      <td>13.87304</td>\n",
       "      <td>20.7727</td>\n",
       "      <td>19.0620</td>\n",
       "      <td>23.3543</td>\n",
       "      <td>24.7605</td>\n",
       "      <td>19.3058</td>\n",
       "      <td>13.7694</td>\n",
       "    </tr>\n",
       "    <tr>\n",
       "      <td>1</td>\n",
       "      <td>midHolocene_30N</td>\n",
       "      <td>14.74721</td>\n",
       "      <td>20.5321</td>\n",
       "      <td>19.6255</td>\n",
       "      <td>23.0021</td>\n",
       "      <td>24.8883</td>\n",
       "      <td>19.8271</td>\n",
       "      <td>14.5530</td>\n",
       "    </tr>\n",
       "    <tr>\n",
       "      <td>2</td>\n",
       "      <td>piControl_50N</td>\n",
       "      <td>12.25497</td>\n",
       "      <td>16.6698</td>\n",
       "      <td>16.5600</td>\n",
       "      <td>17.8379</td>\n",
       "      <td>15.3620</td>\n",
       "      <td>16.3581</td>\n",
       "      <td>14.5778</td>\n",
       "    </tr>\n",
       "    <tr>\n",
       "      <td>3</td>\n",
       "      <td>midHolocene_50N</td>\n",
       "      <td>13.12272</td>\n",
       "      <td>16.2000</td>\n",
       "      <td>16.8675</td>\n",
       "      <td>17.5562</td>\n",
       "      <td>15.2235</td>\n",
       "      <td>16.5716</td>\n",
       "      <td>15.5096</td>\n",
       "    </tr>\n",
       "  </tbody>\n",
       "</table>\n",
       "</div>"
      ],
      "text/plain": [
       "             Model  MIROC-ES2L    CCSM4    CESM2  FGOALS-g2  GISS-E2-1-G  \\\n",
       "0    piControl_30N    13.87304  20.7727  19.0620    23.3543      24.7605   \n",
       "1  midHolocene_30N    14.74721  20.5321  19.6255    23.0021      24.8883   \n",
       "2    piControl_50N    12.25497  16.6698  16.5600    17.8379      15.3620   \n",
       "3  midHolocene_50N    13.12272  16.2000  16.8675    17.5562      15.2235   \n",
       "\n",
       "   MPI-ESM-P  MRI-CGCM3  \n",
       "0    19.3058    13.7694  \n",
       "1    19.8271    14.5530  \n",
       "2    16.3581    14.5778  \n",
       "3    16.5716    15.5096  "
      ]
     },
     "execution_count": 4,
     "metadata": {},
     "output_type": "execute_result"
    }
   ],
   "source": [
    "df"
   ]
  },
  {
   "cell_type": "code",
   "execution_count": 5,
   "metadata": {},
   "outputs": [],
   "source": [
    "#Create dataset used in plotting\n",
    "amoc3={}\n",
    "amoc4={}\n",
    "m3=[]\n",
    "m4=[]\n",
    "models=['CCSM4','CESM2','FGOALS-g2','GISS-E2-1-G','MPI-ESM-P','MRI-CGCM3','MIROC-ES2L']\n",
    "for m in models:\n",
    "    if m in pmip[pmip_v3]:\n",
    "        m3.append(m)\n",
    "        amoc3[m]=df[m]\n",
    "    if m in pmip[pmip_v4]:\n",
    "        amoc4[m]=df[m]\n",
    "        m4.append(m)"
   ]
  },
  {
   "cell_type": "code",
   "execution_count": 8,
   "metadata": {},
   "outputs": [
    {
     "data": {
      "text/plain": [
       "{'CCSM4': 0    20.7727\n",
       " 1    20.5321\n",
       " 2    16.6698\n",
       " 3    16.2000\n",
       " Name: CCSM4, dtype: float64, 'FGOALS-g2': 0    23.3543\n",
       " 1    23.0021\n",
       " 2    17.8379\n",
       " 3    17.5562\n",
       " Name: FGOALS-g2, dtype: float64, 'MPI-ESM-P': 0    19.3058\n",
       " 1    19.8271\n",
       " 2    16.3581\n",
       " 3    16.5716\n",
       " Name: MPI-ESM-P, dtype: float64, 'MRI-CGCM3': 0    13.7694\n",
       " 1    14.5530\n",
       " 2    14.5778\n",
       " 3    15.5096\n",
       " Name: MRI-CGCM3, dtype: float64}"
      ]
     },
     "execution_count": 8,
     "metadata": {},
     "output_type": "execute_result"
    }
   ],
   "source": [
    "amoc3"
   ]
  },
  {
   "cell_type": "code",
   "execution_count": 9,
   "metadata": {},
   "outputs": [
    {
     "data": {
      "text/plain": [
       "{'CESM2': 0    19.0620\n",
       " 1    19.6255\n",
       " 2    16.5600\n",
       " 3    16.8675\n",
       " Name: CESM2, dtype: float64, 'GISS-E2-1-G': 0    24.7605\n",
       " 1    24.8883\n",
       " 2    15.3620\n",
       " 3    15.2235\n",
       " Name: GISS-E2-1-G, dtype: float64, 'MIROC-ES2L': 0    13.87304\n",
       " 1    14.74721\n",
       " 2    12.25497\n",
       " 3    13.12272\n",
       " Name: MIROC-ES2L, dtype: float64}"
      ]
     },
     "execution_count": 9,
     "metadata": {},
     "output_type": "execute_result"
    }
   ],
   "source": [
    "amoc4"
   ]
  },
  {
   "cell_type": "code",
   "execution_count": 7,
   "metadata": {},
   "outputs": [
    {
     "data": {
      "image/png": "[encoded data removed]",
      "text/plain": [
       "<Figure size 720x720 with 1 Axes>"
      ]
     },
     "metadata": {
      "needs_background": "light"
     },
     "output_type": "display_data"
    }
   ],
   "source": [
    "#Plotting\n",
    "plt.figure(figsize=(10,10))\n",
    "plt.xlim(10,30)\n",
    "plt.ylim(10,30)\n",
    "#Create reference line and shading\n",
    "x1=np.arange(10,31)\n",
    "y1=x1\n",
    "y2=0.95*x1\n",
    "y3=1.05*x1\n",
    "plt.plot(x1,y1,\"r--\")\n",
    "plt.plot(x1,y2,\"k--\",lw=0.5)\n",
    "plt.plot(x1,y3,\"k--\",lw=0.5)\n",
    "plt.fill_between(x1, y2, y3,facecolor='k', alpha=0.1)\n",
    "#Set point colors \n",
    "colormap = plt.get_cmap('Set2') #nipy_spectral, Set1,Paired  \n",
    "colorst = [colormap(i) for i in np.linspace(0, 0.9,len(models))] \n",
    "#plotting    \n",
    "for i in range(len(m3)):\n",
    "    plt.scatter(amoc3[m3[i]][0],amoc3[m3[i]][1],s=120,color=colorst[i],marker='^',label=m3[i])\n",
    "    plt.scatter(amoc3[m3[i]][2],amoc3[m3[i]][3],s=120,color=colorst[i],marker='o')           \n",
    "for i in range(len(m4)):\n",
    "    plt.scatter(amoc4[m4[i]][0],amoc4[m4[i]][1],s=120,color=colorst[i+len(m3)],marker='^',label=m4[i])\n",
    "    plt.scatter(amoc4[m4[i]][2],amoc4[m4[i]][3],s=120,color=colorst[i+len(m3)],marker='o')\n",
    "#legend\n",
    "leg=plt.legend(edgecolor='None',facecolor='None',fontsize=9)\n",
    "for h, t in zip(leg.legendHandles, leg.get_texts()):\n",
    "    t.set_color(h.get_facecolor()[0])\n",
    "#axis labels\n",
    "plt.xlabel('PI AMOC (Sv)',fontsize=18)\n",
    "plt.ylabel('MH AMOC (Sv)',fontsize=18)\n",
    "#save plot\n",
    "plt.savefig('figs/AMOC.png')\n",
    "\n"
   ]
  }
 ],
 "metadata": {
  "kernelspec": {
   "display_name": "Python 3",
   "language": "python",
   "name": "python3"
  },
  "language_info": {
   "codemirror_mode": {
    "name": "ipython",
    "version": 3
   },
   "file_extension": ".py",
   "mimetype": "text/x-python",
   "name": "python",
   "nbconvert_exporter": "python",
   "pygments_lexer": "ipython3",
   "version": "3.7.4"
  }
 },
 "nbformat": 4,
 "nbformat_minor": 2
}
